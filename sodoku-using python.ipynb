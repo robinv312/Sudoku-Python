{
 "cells": [
  {
   "cell_type": "code",
   "execution_count": 19,
   "metadata": {},
   "outputs": [],
   "source": [
    "def is_number_valid(row,col,num):\n",
    "    global grid\n",
    "    for i in range(0,9):\n",
    "        if grid[row][i]==num:\n",
    "            return False\n",
    "    for i in range (0,9):\n",
    "        if grid[i][col]==num:\n",
    "            return False\n",
    "    col_subset = (col//3) * 3\n",
    "    row_subset = (row//3) * 3\n",
    "    for i in range(0,3):\n",
    "        for j in range (0,3):\n",
    "            if grid[row_subset+i][col_subset+i]==num:\n",
    "                return False\n",
    "    return True\n",
    "        \n",
    "        "
   ]
  },
  {
   "cell_type": "code",
   "execution_count": 20,
   "metadata": {},
   "outputs": [],
   "source": [
    "def solve_sudoku():\n",
    "    global grid\n",
    "    for row in range (0,9):\n",
    "        for col in range (0,9):\n",
    "            if grid[row][col]==0:\n",
    "                for num in range (1,10):\n",
    "                    if is_number_valid(row,col,num):\n",
    "                        grid[row][col] = num\n",
    "                        solve_sudoku()\n",
    "                        grid[row][col]=0\n",
    "                return\n",
    "    print(np.matrix(grid))\n",
    "                        \n",
    "                    \n",
    "                "
   ]
  },
  {
   "cell_type": "code",
   "execution_count": 23,
   "metadata": {},
   "outputs": [
    {
     "name": "stdout",
     "output_type": "stream",
     "text": [
      "[[3 9 4 6 8 5 7 1 2]\n",
      " [7 8 5 2 1 9 3 6 4]\n",
      " [6 2 1 7 3 4 9 5 8]\n",
      " [1 3 9 5 6 8 2 4 7]\n",
      " [8 7 2 3 4 6 1 9 5]\n",
      " [5 4 6 1 9 2 8 7 3]\n",
      " [2 6 7 8 5 1 4 3 9]\n",
      " [4 5 3 9 2 7 6 8 1]\n",
      " [9 1 8 4 7 3 5 2 6]]\n"
     ]
    }
   ],
   "source": [
    "grid = [[3,0,4,0,0,5,7,0,0],\n",
    "        [7,0,0,2,0,9,0,6,4],\n",
    "        [6,2,0,7,3,4,0,5,8],\n",
    "        [1,0,9,0,6,0,2,4,7],\n",
    "        [8,0,2,0,4,6,1,0,5],\n",
    "        [0,4,0,1,0,2,0,7,3],\n",
    "        [2,6,0,0,0,1,0,3,0],\n",
    "        [4,5,0,0,2,0,0,8,0],\n",
    "        [0,0,0,4,0,3,0,0,0]\n",
    "       ]\n",
    "\n",
    "solve_sudoku()"
   ]
  },
  {
   "cell_type": "code",
   "execution_count": null,
   "metadata": {},
   "outputs": [],
   "source": []
  },
  {
   "cell_type": "code",
   "execution_count": null,
   "metadata": {},
   "outputs": [],
   "source": []
  }
 ],
 "metadata": {
  "kernelspec": {
   "display_name": "Python 3",
   "language": "python",
   "name": "python3"
  },
  "language_info": {
   "codemirror_mode": {
    "name": "ipython",
    "version": 3
   },
   "file_extension": ".py",
   "mimetype": "text/x-python",
   "name": "python",
   "nbconvert_exporter": "python",
   "pygments_lexer": "ipython3",
   "version": "3.6.5"
  }
 },
 "nbformat": 4,
 "nbformat_minor": 4
}
